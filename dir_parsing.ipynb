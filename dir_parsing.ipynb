{
 "cells": [
  {
   "cell_type": "code",
   "execution_count": 2,
   "metadata": {
    "collapsed": false
   },
   "outputs": [],
   "source": [
    "import os\n"
   ]
  },
  {
   "cell_type": "code",
   "execution_count": 3,
   "metadata": {
    "collapsed": false
   },
   "outputs": [
    {
     "data": {
      "text/plain": [
       "<function posix.getcwd>"
      ]
     },
     "execution_count": 3,
     "metadata": {},
     "output_type": "execute_result"
    }
   ],
   "source": [
    "os.getcwd"
   ]
  },
  {
   "cell_type": "code",
   "execution_count": 4,
   "metadata": {
    "collapsed": false
   },
   "outputs": [
    {
     "data": {
      "text/plain": [
       "'/Users/Mrinal'"
      ]
     },
     "execution_count": 4,
     "metadata": {},
     "output_type": "execute_result"
    }
   ],
   "source": [
    "os.getcwd()\n"
   ]
  },
  {
   "cell_type": "code",
   "execution_count": 1,
   "metadata": {
    "collapsed": false
   },
   "outputs": [
    {
     "name": "stdout",
     "output_type": "stream",
     "text": [
      "Found directory: /Users/Mrinal/Desktop/temp\n",
      "\t.DS_Store\n",
      "\tCOS_apply.pdf\n",
      "\tDCGAN_loss.pdf\n",
      "\tdct_00_3164.jpg\n",
      "\tdct_01_3164.jpg\n",
      "\tdct_01_3164.png\n",
      "\tdct_00_3164.png\n",
      "\tCOS_approval.pdf\n",
      "\tpixel_01_3164.png\n",
      "\tpixel_00_3164.png\n",
      "\tpixel_00_3164.jpg\n",
      "\tpixel_01_3164.jpg\n",
      "\tDCGAN+IDCT8x8_loss.pdf\n",
      "Found directory: /Users/Mrinal/Desktop/books\n",
      "\tCracking the Coding Interview - 6th Edition.pdf\n",
      "\t.DS_Store\n",
      "\tbishop.pdf\n",
      "\tCracking the Coding Interview - 4th Edition.pdf\n",
      "Found directory: /Users/Mrinal/Desktop/ST/eye_tracking_mat\n",
      "\tcvpr2016_Khosla.pdf\n",
      "\tWhitePaper_SimSci_TheRoleofVirtualRealityIntheProcessIndustry.pdf\n",
      "Found directory: /Users/Mrinal/Desktop/ST\n",
      "\tSigned_subarna.pdf\n",
      "\tOPT_req_form.pdf\n",
      "\tresearch-summary.pdf\n",
      "\tTravel_NonContinental_USA - Foreign Travel_adjusted.pdf\n",
      "\t.DS_Store\n",
      "\tSigned_assignment_st_p2.pdf\n",
      "\tSubarna Tripathi_Americas Travel Form - .pdf\n",
      "\tCopy of Travel_NonContinental_USA.xlsx\n",
      "\tResume_subarna_Tripathi_2017.docx\n",
      "\tST.png\n",
      "\tTravel_NonContinental_USA_adjusted.xlsx\n",
      "\tICME_draft.pdf\n",
      "\tICME_version2.pdf\n",
      "\tICME_version3.pdf\n",
      "\tacademichistoryreviewpdf.pdf\n",
      "\tICME_version4.pdf\n",
      "\tpose2instance-harnessing-keypoints.pdf\n",
      "\tSD2017-153-2_Dec_Tripathi_Signed.pdf\n",
      "\tTravel_NonContinental_USA.xls\n",
      "\trebuttal_sample_DCT.pdf\n",
      "\tTravel_NonContinental_USA (1).xls\n",
      "\tFY17 Candidate Interest Form_Software.docx\n",
      "Found directory: /Users/Mrinal/Desktop/\n",
      "\tNervana_candidate_talk.key\n",
      "\t.DS_Store\n",
      "\t.localized\n",
      "\tamericord-information-kit.pdf\n",
      "\texplanation_of_benefits.pdf\n"
     ]
    }
   ],
   "source": [
    "import os\n",
    " \n",
    "rootDir = '/Users/Mrinal/Desktop/'\n",
    "for dirName, subdirList, fileList in os.walk(rootDir, topdown=False):\n",
    "    print('Found directory: %s' % dirName)\n",
    "    for fname in fileList:\n",
    "        print('\\t%s' % fname)"
   ]
  },
  {
   "cell_type": "code",
   "execution_count": null,
   "metadata": {
    "collapsed": true
   },
   "outputs": [],
   "source": []
  }
 ],
 "metadata": {
  "anaconda-cloud": {},
  "kernelspec": {
   "display_name": "Python [default]",
   "language": "python",
   "name": "python2"
  },
  "language_info": {
   "codemirror_mode": {
    "name": "ipython",
    "version": 2
   },
   "file_extension": ".py",
   "mimetype": "text/x-python",
   "name": "python",
   "nbconvert_exporter": "python",
   "pygments_lexer": "ipython2",
   "version": "2.7.13"
  }
 },
 "nbformat": 4,
 "nbformat_minor": 2
}
