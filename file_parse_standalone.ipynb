{
 "cells": [
  {
   "cell_type": "code",
   "execution_count": 16,
   "metadata": {
    "collapsed": false
   },
   "outputs": [
    {
     "name": "stdout",
     "output_type": "stream",
     "text": [
      "count 4\n"
     ]
    }
   ],
   "source": [
    "import os\n",
    "import re\n",
    "my_extn = \".pdf\"\n",
    "#my_path = '/Users/subarna/Downloads/'\n",
    "my_path = '/Users/subarna/Documents/old/3D TV'\n",
    "my_files = os.listdir(my_path)\n",
    "count = 0\n",
    "for file in my_files:\n",
    "    #print file\n",
    "    found = re.search(my_extn, file)\n",
    "    #print \"found %s\" %(found)\n",
    "    if found != None:\n",
    "        count +=1\n",
    "print \"count %s\" %(count)"
   ]
  },
  {
   "cell_type": "code",
   "execution_count": 19,
   "metadata": {
    "collapsed": false
   },
   "outputs": [
    {
     "name": "stdout",
     "output_type": "stream",
     "text": [
      "count 9\n"
     ]
    }
   ],
   "source": [
    "import os\n",
    "import re\n",
    "my_extn = [\".pdf\", \".doc\", \".zip\"]\n",
    "\n",
    "#my_path = '/Users/subarna/Downloads/'\n",
    "my_path = '/Users/subarna/Documents/old/3D TV'\n",
    "\n",
    "my_files = os.listdir(my_path)\n",
    "count = 0\n",
    "\n",
    "for file in my_files:\n",
    "    #print file\n",
    "    for idx in my_extn:\n",
    "        found = re.search(idx, file)\n",
    "        #print \"found %s\" %(found)\n",
    "        if found != None:\n",
    "            count +=1\n",
    "print \"count %s\" %(count)\n"
   ]
  },
  {
   "cell_type": "code",
   "execution_count": 3,
   "metadata": {
    "collapsed": false
   },
   "outputs": [
    {
     "name": "stdout",
     "output_type": "stream",
     "text": [
      "OS List Dir o/p ['3D To Home v0-9.pdf', '3D-To-Home DH-Arc 12-8-08.ppt', '3D@Home Participation Strategy.doc', '3DTV Overview Slides Jorge.ppt', '3DTV_MVC Slides Munsi Haque.ppt', 'FlierlSPMag2007.pdf', 'Insight Media 3D Market Research 2008.pdf', 'Insight Media 3D Survey Highlights.ppt', 'Insight Media Technology Survey 3D LCD.ppt', 'Jan 09 SID Symposium File-1.zip', 'Jan 09 SID Symposium File-2.zip', 'SMPTE Documents Jan09.zip', 'SMPTE TF3D Report.doc', 'Stereo 3D Overview Slides - Greg Stoner.ppt', 'TOC.pdf']\n",
      "count 9\n",
      "file list ['3D To Home v0-9.pdf', '3D@Home Participation Strategy.doc', 'FlierlSPMag2007.pdf', 'Insight Media 3D Market Research 2008.pdf', 'Jan 09 SID Symposium File-1.zip', 'Jan 09 SID Symposium File-2.zip', 'SMPTE Documents Jan09.zip', 'SMPTE TF3D Report.doc', 'TOC.pdf']\n"
     ]
    }
   ],
   "source": [
    "import os\n",
    "import re\n",
    "\n",
    "my_extn = [\".pdf\", \".doc\", \".zip\"]\n",
    "\n",
    "#my_path = '/Users/subarna/Downloads/'\n",
    "my_path = '/Users/subarna/Documents/old/3D TV'\n",
    "\n",
    "my_files = os.listdir(my_path)\n",
    "count = 0\n",
    "file_list = []\n",
    "print \"OS List Dir o/p %s\" %(my_files)\n",
    "for file in my_files:\n",
    "    #print file\n",
    "    for idx in my_extn:\n",
    "        found = re.search(idx, file) \n",
    "        #print \"found %s\" %(found)\n",
    "        if found != None:\n",
    "            count +=1\n",
    "            file_list.append(file)\n",
    "print \"count %s\" %(count)\n",
    "print \"file list %s\" %(file_list)"
   ]
  },
  {
   "cell_type": "code",
   "execution_count": null,
   "metadata": {
    "collapsed": true
   },
   "outputs": [],
   "source": []
  }
 ],
 "metadata": {
  "anaconda-cloud": {},
  "kernelspec": {
   "display_name": "Python 2",
   "language": "python",
   "name": "python2"
  },
  "language_info": {
   "codemirror_mode": {
    "name": "ipython",
    "version": 2
   },
   "file_extension": ".py",
   "mimetype": "text/x-python",
   "name": "python",
   "nbconvert_exporter": "python",
   "pygments_lexer": "ipython2",
   "version": "2.7.11"
  }
 },
 "nbformat": 4,
 "nbformat_minor": 2
}
