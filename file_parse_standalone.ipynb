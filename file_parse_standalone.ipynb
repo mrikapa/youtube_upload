{
 "cells": [
  {
   "cell_type": "code",
   "execution_count": 15,
   "metadata": {
    "collapsed": false
   },
   "outputs": [
    {
     "name": "stdout",
     "output_type": "stream",
     "text": [
      "count 3\n"
     ]
    }
   ],
   "source": [
    "import os\n",
    "import re\n",
    "my_extn = \".dmg\"\n",
    "my_path = '/Users/Mrinal/Downloads/'\n",
    "my_files = os.listdir(my_path)\n",
    "count = 0\n",
    "for file in my_files:\n",
    "    #print file\n",
    "    found = re.search(my_extn, file)\n",
    "    #print \"found %s\" %(found)\n",
    "    if found != None:\n",
    "        count +=1\n",
    "print \"count %s\" %(count)"
   ]
  },
  {
   "cell_type": "code",
   "execution_count": null,
   "metadata": {
    "collapsed": false
   },
   "outputs": [],
   "source": [
    "\n"
   ]
  },
  {
   "cell_type": "code",
   "execution_count": null,
   "metadata": {
    "collapsed": true
   },
   "outputs": [],
   "source": []
  }
 ],
 "metadata": {
  "anaconda-cloud": {},
  "kernelspec": {
   "display_name": "Python [default]",
   "language": "python",
   "name": "python2"
  },
  "language_info": {
   "codemirror_mode": {
    "name": "ipython",
    "version": 2
   },
   "file_extension": ".py",
   "mimetype": "text/x-python",
   "name": "python",
   "nbconvert_exporter": "python",
   "pygments_lexer": "ipython2",
   "version": "2.7.13"
  }
 },
 "nbformat": 4,
 "nbformat_minor": 2
}
