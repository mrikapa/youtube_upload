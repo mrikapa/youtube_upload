{
 "cells": [
  {
   "cell_type": "code",
   "execution_count": 16,
   "metadata": {
    "collapsed": false
   },
   "outputs": [
    {
     "name": "stdout",
     "output_type": "stream",
     "text": [
      "count 4\n"
     ]
    }
   ],
   "source": [
    "import os\n",
    "import re\n",
    "my_extn = \".pdf\"\n",
    "#my_path = '/Users/subarna/Downloads/'\n",
    "my_path = '/Users/subarna/Documents/old/3D TV'\n",
    "my_files = os.listdir(my_path)\n",
    "count = 0\n",
    "for file in my_files:\n",
    "    #print file\n",
    "    found = re.search(my_extn, file)\n",
    "    #print \"found %s\" %(found)\n",
    "    if found != None:\n",
    "        count +=1\n",
    "print \"count %s\" %(count)"
   ]
  },
  {
   "cell_type": "code",
   "execution_count": 19,
   "metadata": {
    "collapsed": false
   },
   "outputs": [
    {
     "name": "stdout",
     "output_type": "stream",
     "text": [
      "count 9\n"
     ]
    }
   ],
   "source": [
    "import os\n",
    "import re\n",
    "my_extn = [\".pdf\", \".doc\", \".zip\"]\n",
    "\n",
    "#my_path = '/Users/subarna/Downloads/'\n",
    "my_path = '/Users/subarna/Documents/old/3D TV'\n",
    "\n",
    "my_files = os.listdir(my_path)\n",
    "count = 0\n",
    "\n",
    "for file in my_files:\n",
    "    #print file\n",
    "    for idx in my_extn:\n",
    "        found = re.search(idx, file)\n",
    "        #print \"found %s\" %(found)\n",
    "        if found != None:\n",
    "            count +=1\n",
    "print \"count %s\" %(count)\n"
   ]
  },
  {
   "cell_type": "code",
   "execution_count": null,
   "metadata": {
    "collapsed": true
   },
   "outputs": [],
   "source": []
  }
 ],
 "metadata": {
  "anaconda-cloud": {},
  "kernelspec": {
   "display_name": "Python 2",
   "language": "python",
   "name": "python2"
  },
  "language_info": {
   "codemirror_mode": {
    "name": "ipython",
    "version": 2
   },
   "file_extension": ".py",
   "mimetype": "text/x-python",
   "name": "python",
   "nbconvert_exporter": "python",
   "pygments_lexer": "ipython2",
   "version": "2.7.11"
  }
 },
 "nbformat": 4,
 "nbformat_minor": 2
}
