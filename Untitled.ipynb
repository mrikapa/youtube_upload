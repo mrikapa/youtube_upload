{
 "cells": [
  {
   "cell_type": "code",
   "execution_count": 1,
   "metadata": {
    "collapsed": false
   },
   "outputs": [
    {
     "name": "stdout",
     "output_type": "stream",
     "text": [
      "Please visit this URL to authorize this application: https://accounts.google.com/o/oauth2/auth?response_type=code&client_id=305681952533-vn45ei3sie66dv0ttcj05973uo6tal0o.apps.googleusercontent.com&redirect_uri=urn%3Aietf%3Awg%3Aoauth%3A2.0%3Aoob&scope=https%3A%2F%2Fwww.googleapis.com%2Fauth%2Fyoutube.force-ssl&state=fzUmNnxRW8Wo1jBGVMxlhgOG0Rj9tq&prompt=consent&access_type=offline\n",
      "Enter the authorization code: 4/VkvvgL4L_y6vpWAsbKGuCzxXHiM3D4PM0V8NdjjW8YI\n"
     ]
    },
    {
     "name": "stderr",
     "output_type": "stream",
     "text": [
      "WARNING:googleapiclient.discovery_cache:file_cache is unavailable when using oauth2client >= 4.0.0\n",
      "Traceback (most recent call last):\n",
      "  File \"/Users/subarna/anaconda2/lib/python2.7/site-packages/googleapiclient/discovery_cache/__init__.py\", line 41, in autodetect\n",
      "    from . import file_cache\n",
      "  File \"/Users/subarna/anaconda2/lib/python2.7/site-packages/googleapiclient/discovery_cache/file_cache.py\", line 41, in <module>\n",
      "    'file_cache is unavailable when using oauth2client >= 4.0.0')\n",
      "ImportError: file_cache is unavailable when using oauth2client >= 4.0.0\n"
     ]
    },
    {
     "name": "stdout",
     "output_type": "stream",
     "text": [
      "Uploading file...\n",
      "{u'snippet': {u'thumbnails': {u'default': {u'url': u'https://i9.ytimg.com/vi/7g_3353a0rU/default.jpg?sqp=CPDqpNMF&rs=AOn4CLBBTuolKpC7ECjQ-3e-N3-MYaj6kQ', u'width': 120, u'height': 90}, u'high': {u'url': u'https://i9.ytimg.com/vi/7g_3353a0rU/hqdefault.jpg?sqp=CPDqpNMF&rs=AOn4CLBPDOJgrmozFm_DHDDakSYLaTt32w', u'width': 480, u'height': 360}, u'medium': {u'url': u'https://i9.ytimg.com/vi/7g_3353a0rU/mqdefault.jpg?sqp=CPDqpNMF&rs=AOn4CLC6XcAAdihd0OXW2JKChb_db9C9eg', u'width': 320, u'height': 180}}, u'title': u'Test video upload', u'channelId': u'UCaRwro4-UgAZ4zZ3yipYp7A', u'publishedAt': u'2018-01-25T01:42:10.000Z', u'liveBroadcastContent': u'none', u'channelTitle': u'Mrinal Paul', u'categoryId': u'22', u'localized': {u'description': u'Description of uploaded video.', u'title': u'Test video upload'}, u'description': u'Description of uploaded video.'}, u'status': {u'publicStatsViewable': True, u'privacyStatus': u'private', u'uploadStatus': u'uploaded', u'license': u'youtube', u'embeddable': True}, u'kind': u'youtube#video', u'etag': u'\"g7k5f8kvn67Bsl8L-Bum53neIr4/ygSR-Cv_bkyAgnW7JmAmi7qao34\"', u'id': u'7g_3353a0rU'}\n"
     ]
    }
   ],
   "source": [
    "%run upload.py\n"
   ]
  },
  {
   "cell_type": "code",
   "execution_count": null,
   "metadata": {
    "collapsed": true
   },
   "outputs": [],
   "source": []
  }
 ],
 "metadata": {
  "kernelspec": {
   "display_name": "Python 2",
   "language": "python",
   "name": "python2"
  },
  "language_info": {
   "codemirror_mode": {
    "name": "ipython",
    "version": 2
   },
   "file_extension": ".py",
   "mimetype": "text/x-python",
   "name": "python",
   "nbconvert_exporter": "python",
   "pygments_lexer": "ipython2",
   "version": "2.7.11"
  }
 },
 "nbformat": 4,
 "nbformat_minor": 2
}
