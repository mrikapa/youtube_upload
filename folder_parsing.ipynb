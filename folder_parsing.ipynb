{
 "cells": [
  {
   "cell_type": "markdown",
   "metadata": {},
   "source": [
    "# File and Folder Parsing"
   ]
  },
  {
   "cell_type": "code",
   "execution_count": null,
   "metadata": {
    "collapsed": false
   },
   "outputs": [],
   "source": []
  },
  {
   "cell_type": "code",
   "execution_count": 36,
   "metadata": {
    "collapsed": false
   },
   "outputs": [
    {
     "name": "stdout",
     "output_type": "stream",
     "text": [
      "Found directory: /Users/subarna/Documents/old/3D TV\n",
      "\t3D To Home v0-9.pdf\n",
      "\t3D-To-Home DH-Arc 12-8-08.ppt\n",
      "\t3D@Home Participation Strategy.doc\n",
      "\t3DTV Overview Slides Jorge.ppt\n",
      "\t3DTV_MVC Slides Munsi Haque.ppt\n",
      "\tFlierlSPMag2007.pdf\n",
      "\tInsight Media 3D Market Research 2008.pdf\n",
      "\tInsight Media 3D Survey Highlights.ppt\n",
      "\tInsight Media Technology Survey 3D LCD.ppt\n",
      "\tJan 09 SID Symposium File-1.zip\n",
      "\tJan 09 SID Symposium File-2.zip\n",
      "\tSMPTE Documents Jan09.zip\n",
      "\tSMPTE TF3D Report.doc\n",
      "\tStereo 3D Overview Slides - Greg Stoner.ppt\n",
      "\tTOC.pdf\n",
      "Found directory: /Users/subarna/Documents/old/songs/oldies/others/4m16\n",
      "\t12B.jpg\n",
      "\tpage1.jpg\n",
      "\tpage2.jpg\n",
      "\tpage3.jpg\n",
      "Found directory: /Users/subarna/Documents/old/songs/oldies/others\n",
      "\t.DS_Store\n",
      "\tchallan.pdf\n",
      "\tchallan2.pdf\n",
      "\tiapr.omnicms.com_iapr_2008_pm_papers_proof.cgi_Copyright.pdf\n",
      "\ticpr_new.doc\n",
      "\tmy_return.xls\n",
      "\tPC300415.JPG\n",
      "\tPC300416.JPG\n",
      "\tPC300417.JPG\n",
      "\tPC300418.JPG\n",
      "\tPC300419.JPG\n",
      "Found directory: /Users/subarna/Documents/old/songs/oldies\n",
      "\t.DS_Store\n",
      "\tSUBARNA.wav\n",
      "\ttanpura - b - sm.mp3\n",
      "Found directory: /Users/subarna/Documents/old/songs\n",
      "\t.DS_Store\n",
      "Found directory: /Users/subarna/Documents/old\n",
      "\t.DS_Store\n"
     ]
    }
   ],
   "source": [
    "import os\n",
    "import re\n",
    "\n",
    "rootDir = '/Users/subarna/Documents/old'\n",
    "#rootDir = '/Users/subarna/Pictures/JPEG'\n",
    "#rootDir = '/Users/subarna/Pictures'\n",
    "for dirName, subdirList, fileList in os.walk(rootDir, topdown=False):\n",
    "    print('Found directory: %s' % dirName)\n",
    "    for fname in fileList:\n",
    "        print('\\t%s' % fname)\n",
    "        #found = re.search(extn, fname, flags=re.IGNORECASE)\n",
    "        #print \"\\t found %s\" %(found)\n",
    "        #if found != None:\n",
    "        #    count +=1\n",
    "\n",
    "#print \"Total searched files %s\" %(count)"
   ]
  },
  {
   "cell_type": "code",
   "execution_count": null,
   "metadata": {
    "collapsed": false
   },
   "outputs": [],
   "source": []
  },
  {
   "cell_type": "markdown",
   "metadata": {},
   "source": [
    "# Search your own extension"
   ]
  },
  {
   "cell_type": "code",
   "execution_count": 42,
   "metadata": {
    "collapsed": false
   },
   "outputs": [
    {
     "name": "stdout",
     "output_type": "stream",
     "text": [
      "Total searched files 193\n"
     ]
    }
   ],
   "source": [
    "extn = '.mp4'\n",
    "extn = '.MOV'\n",
    "count = 0\n",
    "\n",
    "#rootDir = '/Users/subarna/Documents/old'\n",
    "rootDir = '/Users/subarna/Pictures'\n",
    "#rootDir = '/Users/subarna/Pictures'\n",
    "for dirName, subdirList, fileList in os.walk(rootDir, topdown=False):\n",
    "    #print('Found directory: %s' % dirName)\n",
    "    for fname in fileList:\n",
    "        #print('\\t%s' % fname)\n",
    "        found = re.search(extn, fname, flags=re.IGNORECASE)\n",
    "        #print \"\\t found %s\" %(found)\n",
    "        if found != None:\n",
    "            count +=1\n",
    "\n",
    "print \"Total searched files %s\" %(count)"
   ]
  },
  {
   "cell_type": "code",
   "execution_count": null,
   "metadata": {
    "collapsed": false
   },
   "outputs": [],
   "source": []
  },
  {
   "cell_type": "markdown",
   "metadata": {},
   "source": [
    "# Search multiple extentions iteratively"
   ]
  },
  {
   "cell_type": "code",
   "execution_count": 40,
   "metadata": {
    "collapsed": false
   },
   "outputs": [
    {
     "name": "stdout",
     "output_type": "stream",
     "text": [
      "Total searched files 197\n"
     ]
    }
   ],
   "source": [
    "extn = ['.mp4', '.MOV']\n",
    "count = 0\n",
    "\n",
    "#rootDir = '/Users/subarna/Pictures/JPEG'\n",
    "rootDir = '/Users/subarna/Pictures'\n",
    "\n",
    "for dirName, subdirList, fileList in os.walk(rootDir, topdown=False):\n",
    "    #print('Found directory: %s' % dirName)\n",
    "    for fname in fileList:\n",
    "        #print('\\t%s' % fname)\n",
    "        for idx in extn:\n",
    "            found = re.search(idx, fname, flags=re.IGNORECASE)\n",
    "            #print \"\\t found %s\" %(found)\n",
    "            if found != None:\n",
    "                count +=1\n",
    "\n",
    "print \"Total searched files %s\" %(count)"
   ]
  },
  {
   "cell_type": "markdown",
   "metadata": {
    "collapsed": true
   },
   "source": [
    "# Results in a list\n"
   ]
  },
  {
   "cell_type": "code",
   "execution_count": 34,
   "metadata": {
    "collapsed": false
   },
   "outputs": [
    {
     "name": "stdout",
     "output_type": "stream",
     "text": [
      "Total searched files 195\n",
      "File List ['Tuhi.mp4', 'MVI_3072.MOV', 'MVI_3073.MOV', 'MVI_3074.MOV', 'MVI_3303.MOV', 'MVI_3365.MOV', 'MVI_3366.MOV', 'MVI_3415.MOV', 'MVI_3475.MOV', 'MVI_3476.MOV', 'MVI_3490.MOV', 'MVI_3635.MOV', 'MVI_3643.MOV', 'MVI_3644.MOV', 'MVI_3689.MOV', 'MVI_3737.MOV', 'MVI_3738.MOV', 'MVI_3739.MOV', 'MVI_3740.MOV', 'MVI_3774.MOV', 'MVI_3778.MOV', 'MVI_4034.MOV', 'MVI_4037.MOV', 'MVI_4145.MOV', 'MVI_4229.MOV', 'MVI_4236.MOV', 'MVI_4250.MOV', 'MVI_4253.MOV', 'MVI_4254.MOV', 'MVI_4257.MOV', 'MVI_4258.MOV', 'MVI_4267.MOV', 'MVI_4268.MOV', 'MVI_4269.MOV', 'MVI_4270.MOV', 'MVI_4273.MOV', 'MVI_4274.MOV', 'MVI_4275.MOV', 'MVI_4276.MOV', 'MVI_5305.MOV', 'MVI_5306.MOV', 'MVI_5307.MOV', 'MVI_5316.MOV', 'MVI_5317.MOV', 'MVI_5318.MOV', 'MVI_5319.MOV', 'MVI_5320.MOV', 'MVI_5321.MOV', 'MVI_5322.MOV', 'MVI_5410.MOV', 'MVI_5416.MOV', 'MVI_5417.MOV', 'MVI_5438.MOV', 'MVI_5439.MOV', 'MVI_5446.MOV', 'MVI_5447.MOV', 'MVI_5448.MOV', 'MVI_5451.MOV', 'MVI_5454.MOV', 'MVI_5463.MOV', 'MVI_5550.MOV', 'MVI_5551.MOV', 'MVI_5561.MOV', 'MVI_5562.MOV', 'MVI_5563.MOV', 'MVI_5564.MOV', 'MVI_5565.MOV', 'MVI_5583.MOV', 'MVI_5584.MOV', 'MVI_5585.MOV', 'MVI_5586.MOV', 'MVI_5587.MOV', 'MVI_6160.MOV', 'MVI_6162.MOV', 'MVI_6188.MOV', 'MVI_6189.MOV', 'MVI_6190.MOV', 'MVI_6203.MOV', 'MVI_6204.MOV', 'MVI_6406.MOV', 'MVI_6407.MOV', 'MVI_6408.MOV', '033A1519.MOV', '033A1970.MOV', '033A3201.MOV', '033A4504.MOV', '033A4505.MOV', '033A4511.MOV', '033A4869.MOV', '033A5153.MOV', '033A5154.MOV', '033A5155.MOV', '033A5156.MOV', '033A6367.MOV', '03 Basics - Dos and Donts for Keeping Photos Sharp.mp4', 'MVI_4376.MOV', 'MVI_4377.MOV', 'MVI_4517.MOV', 'MVI_4518.MOV', 'MVI_4616.MOV', 'MVI_4617.MOV', 'MVI_4637.MOV', 'MVI_4638.MOV', 'MVI_4639.MOV', 'MVI_4651.MOV', 'MVI_4652.MOV', 'MVI_4660.MOV', 'MVI_4661.MOV', 'MVI_4662.MOV', 'MVI_4663.MOV', 'MVI_4664.MOV', 'MVI_4665.MOV', 'MVI_4666.MOV', 'MVI_4667.MOV', 'MVI_4668.MOV', 'MVI_4669.MOV', 'MVI_4670.MOV', 'MVI_4671.MOV', 'MVI_4672.MOV', 'MVI_4673.MOV', 'MVI_4674.MOV', 'MVI_4675.MOV', 'MVI_4676.MOV', 'MVI_4677.MOV', 'MVI_4678.MOV', 'MVI_4679.MOV', 'MVI_4680.MOV', 'MVI_4681.MOV', 'MVI_4682.MOV', 'MVI_4683.MOV', 'MVI_4684.MOV', 'MVI_4685.MOV', 'MVI_4727.MOV', 'MVI_4728.MOV', 'MVI_4729.MOV', 'MVI_4835.MOV', 'MVI_5086.MOV', 'MVI_5087.MOV', 'MVI_5088.MOV', 'MVI_5115.MOV', 'MVI_5116.MOV', 'MVI_5145.MOV', 'MVI_5158.MOV', 'MVI_5161.MOV', 'MVI_5162.MOV', 'MVI_5186.MOV', 'MVI_5187.MOV', 'MVI_5206.MOV', 'MVI_5207.MOV', 'MVI_5243.MOV', 'MVI_5244.MOV', 'MVI_5245.MOV', 'MVI_5246.MOV', 'MVI_5247.MOV', 'IMG_0118.MOV', 'IMG_0136.MOV', 'IMG_0222.MOV', 'IMG_0250.MOV', 'IMG_0251.MOV', 'IMG_0368.MOV', 'IMG_0402.MOV', 'IMG_0480.MOV', 'IMG_0481.MOV', 'IMG_0482.MOV', 'IMG_0483.MOV', 'IMG_0484.MOV', 'IMG_0491.MOV', 'IMG_0566.MOV', 'IMG_0573.MOV', 'IMG_0605.MOV', 'IMG_0760.MOV', 'IMG_0762.MOV', 'IMG_0763.MOV', 'IMG_0767.MOV', 'IMG_0778.MOV', 'IMG_0788.MOV', 'IMG_0795.MOV', 'IMG_0806.MOV', 'IMG_0812.MOV', 'IMG_0875.MOV', 'IMG_0905.MOV', 'IMG_0906.MOV', 'IMG_0913.MOV', 'IMG_0914.MOV', 'IMG_0951.MOV', 'IMG_0959.MOV', 'IMG_0962.MOV', 'IMG_0966.MOV', 'IMG_0967.MOV', 'IMG_0968.MOV', 'IMG_0997.MOV', 'IMG_1006.MOV', 'IMG_1147.MOV', 'IMG_1148.MOV', 'IMG_1149.MOV']\n"
     ]
    }
   ],
   "source": [
    "import os\n",
    "import re\n",
    "extn = ['\\.mp4', '\\.MOV']\n",
    "#extn = ['.jpg']\n",
    "\n",
    "count = 0\n",
    "fileName = []\n",
    "\n",
    "#rootDir = '/Users/subarna/Pictures/JPEG'\n",
    "rootDir = '/Users/subarna/Pictures'\n",
    "#rootDir = '/Users/subarna/Pictures/JPEG/tuli/anni'\n",
    "\n",
    "for dirName, subdirList, fileList in os.walk(rootDir, topdown=False):\n",
    "    #print('Found directory: %s' % dirName)\n",
    "    for fname in fileList:\n",
    "        #print('\\t%s' % fname)\n",
    "        for idx in extn:\n",
    "            foundFile = re.search(idx, fname, flags=re.IGNORECASE)\n",
    "            #print \"\\t found %s\" %(foundFile)\n",
    "            if foundFile != None:\n",
    "                #print('Found directory: %s' % dirName)\n",
    "                #print('\\t%s' % fname)\n",
    "                #print \"\\t found %s\" %(foundFile)\n",
    "                count +=1\n",
    "                fileName.append(fname)\n",
    "\n",
    "print \"Total searched files %s\" %(count)\n",
    "\n",
    "#print \"File List %s\" %(fileName)\n",
    "#fileName.remove(0)\n",
    "print \"File List %s\" %(fileName)\n"
   ]
  },
  {
   "cell_type": "code",
   "execution_count": null,
   "metadata": {
    "collapsed": true
   },
   "outputs": [],
   "source": []
  }
 ],
 "metadata": {
  "anaconda-cloud": {},
  "kernelspec": {
   "display_name": "Python 2",
   "language": "python",
   "name": "python2"
  },
  "language_info": {
   "codemirror_mode": {
    "name": "ipython",
    "version": 2
   },
   "file_extension": ".py",
   "mimetype": "text/x-python",
   "name": "python",
   "nbconvert_exporter": "python",
   "pygments_lexer": "ipython2",
   "version": "2.7.11"
  }
 },
 "nbformat": 4,
 "nbformat_minor": 2
}
