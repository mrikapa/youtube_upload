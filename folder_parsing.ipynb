{
 "cells": [
  {
   "cell_type": "markdown",
   "metadata": {},
   "source": [
    "# File and Folder Parsing"
   ]
  },
  {
   "cell_type": "code",
   "execution_count": null,
   "metadata": {
    "collapsed": false
   },
   "outputs": [],
   "source": []
  },
  {
   "cell_type": "code",
   "execution_count": 36,
   "metadata": {
    "collapsed": false
   },
   "outputs": [
    {
     "name": "stdout",
     "output_type": "stream",
     "text": [
      "Found directory: /Users/subarna/Documents/old/3D TV\n",
      "\t3D To Home v0-9.pdf\n",
      "\t3D-To-Home DH-Arc 12-8-08.ppt\n",
      "\t3D@Home Participation Strategy.doc\n",
      "\t3DTV Overview Slides Jorge.ppt\n",
      "\t3DTV_MVC Slides Munsi Haque.ppt\n",
      "\tFlierlSPMag2007.pdf\n",
      "\tInsight Media 3D Market Research 2008.pdf\n",
      "\tInsight Media 3D Survey Highlights.ppt\n",
      "\tInsight Media Technology Survey 3D LCD.ppt\n",
      "\tJan 09 SID Symposium File-1.zip\n",
      "\tJan 09 SID Symposium File-2.zip\n",
      "\tSMPTE Documents Jan09.zip\n",
      "\tSMPTE TF3D Report.doc\n",
      "\tStereo 3D Overview Slides - Greg Stoner.ppt\n",
      "\tTOC.pdf\n",
      "Found directory: /Users/subarna/Documents/old/songs/oldies/others/4m16\n",
      "\t12B.jpg\n",
      "\tpage1.jpg\n",
      "\tpage2.jpg\n",
      "\tpage3.jpg\n",
      "Found directory: /Users/subarna/Documents/old/songs/oldies/others\n",
      "\t.DS_Store\n",
      "\tchallan.pdf\n",
      "\tchallan2.pdf\n",
      "\tiapr.omnicms.com_iapr_2008_pm_papers_proof.cgi_Copyright.pdf\n",
      "\ticpr_new.doc\n",
      "\tmy_return.xls\n",
      "\tPC300415.JPG\n",
      "\tPC300416.JPG\n",
      "\tPC300417.JPG\n",
      "\tPC300418.JPG\n",
      "\tPC300419.JPG\n",
      "Found directory: /Users/subarna/Documents/old/songs/oldies\n",
      "\t.DS_Store\n",
      "\tSUBARNA.wav\n",
      "\ttanpura - b - sm.mp3\n",
      "Found directory: /Users/subarna/Documents/old/songs\n",
      "\t.DS_Store\n",
      "Found directory: /Users/subarna/Documents/old\n",
      "\t.DS_Store\n"
     ]
    }
   ],
   "source": [
    "import os\n",
    "import re\n",
    "\n",
    "rootDir = '/Users/subarna/Documents/old'\n",
    "#rootDir = '/Users/subarna/Pictures/JPEG'\n",
    "#rootDir = '/Users/subarna/Pictures'\n",
    "for dirName, subdirList, fileList in os.walk(rootDir, topdown=False):\n",
    "    print('Found directory: %s' % dirName)\n",
    "    for fname in fileList:\n",
    "        print('\\t%s' % fname)\n",
    "        #found = re.search(extn, fname, flags=re.IGNORECASE)\n",
    "        #print \"\\t found %s\" %(found)\n",
    "        #if found != None:\n",
    "        #    count +=1\n",
    "\n",
    "#print \"Total searched files %s\" %(count)"
   ]
  },
  {
   "cell_type": "code",
   "execution_count": null,
   "metadata": {
    "collapsed": false
   },
   "outputs": [],
   "source": []
  },
  {
   "cell_type": "markdown",
   "metadata": {},
   "source": [
    "# Search your own extension"
   ]
  },
  {
   "cell_type": "code",
   "execution_count": 42,
   "metadata": {
    "collapsed": false
   },
   "outputs": [
    {
     "name": "stdout",
     "output_type": "stream",
     "text": [
      "Total searched files 193\n"
     ]
    }
   ],
   "source": [
    "extn = '.mp4'\n",
    "extn = '.MOV'\n",
    "count = 0\n",
    "\n",
    "#rootDir = '/Users/subarna/Documents/old'\n",
    "rootDir = '/Users/subarna/Pictures'\n",
    "#rootDir = '/Users/subarna/Pictures'\n",
    "for dirName, subdirList, fileList in os.walk(rootDir, topdown=False):\n",
    "    #print('Found directory: %s' % dirName)\n",
    "    for fname in fileList:\n",
    "        #print('\\t%s' % fname)\n",
    "        found = re.search(extn, fname, flags=re.IGNORECASE)\n",
    "        #print \"\\t found %s\" %(found)\n",
    "        if found != None:\n",
    "            count +=1\n",
    "\n",
    "print \"Total searched files %s\" %(count)"
   ]
  },
  {
   "cell_type": "code",
   "execution_count": null,
   "metadata": {
    "collapsed": false
   },
   "outputs": [],
   "source": []
  },
  {
   "cell_type": "markdown",
   "metadata": {},
   "source": [
    "# Search multiple extentions iteratively"
   ]
  },
  {
   "cell_type": "code",
   "execution_count": 40,
   "metadata": {
    "collapsed": false
   },
   "outputs": [
    {
     "name": "stdout",
     "output_type": "stream",
     "text": [
      "Total searched files 197\n"
     ]
    }
   ],
   "source": [
    "extn = ['.mp4', '.MOV']\n",
    "count = 0\n",
    "\n",
    "#rootDir = '/Users/subarna/Pictures/JPEG'\n",
    "rootDir = '/Users/subarna/Pictures'\n",
    "\n",
    "for dirName, subdirList, fileList in os.walk(rootDir, topdown=False):\n",
    "    #print('Found directory: %s' % dirName)\n",
    "    for fname in fileList:\n",
    "        #print('\\t%s' % fname)\n",
    "        for idx in extn:\n",
    "            found = re.search(idx, fname, flags=re.IGNORECASE)\n",
    "            #print \"\\t found %s\" %(found)\n",
    "            if found != None:\n",
    "                count +=1\n",
    "\n",
    "print \"Total searched files %s\" %(count)"
   ]
  },
  {
   "cell_type": "code",
   "execution_count": null,
   "metadata": {
    "collapsed": true
   },
   "outputs": [],
   "source": []
  }
 ],
 "metadata": {
  "anaconda-cloud": {},
  "kernelspec": {
   "display_name": "Python 2",
   "language": "python",
   "name": "python2"
  },
  "language_info": {
   "codemirror_mode": {
    "name": "ipython",
    "version": 2
   },
   "file_extension": ".py",
   "mimetype": "text/x-python",
   "name": "python",
   "nbconvert_exporter": "python",
   "pygments_lexer": "ipython2",
   "version": "2.7.11"
  }
 },
 "nbformat": 4,
 "nbformat_minor": 2
}
