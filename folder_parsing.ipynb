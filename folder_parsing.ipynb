{
 "cells": [
  {
   "cell_type": "code",
   "execution_count": 1,
   "metadata": {
    "collapsed": false
   },
   "outputs": [
    {
     "name": "stdout",
     "output_type": "stream",
     "text": [
      "Found directory: /Users/Mrinal/Documents/Nijeder/Puntu/Feeding Charts\n",
      "\t1.15.2018.pdf\n",
      "Found directory: /Users/Mrinal/Documents/Nijeder/Puntu\n",
      "Found directory: /Users/Mrinal/Documents/Nijeder/Ghorar /Insurance\n",
      "\tPatriotAmericaPlus-2016.pdf\n",
      "\tURX Discount Card.pdf\n",
      "\tStatement_12_21_2017.PDF\n",
      "Found directory: /Users/Mrinal/Documents/Nijeder/Ghorar \n",
      "\tPATAP81803845_DeclarationPage.pdf\n",
      "\t.DS_Store\n",
      "\t83813889_IdCard_Baba.pdf\n",
      "\t83813889_IdCard_Maa.pdf\n",
      "\tInsurance_Kalyani_BabaMaa.pdf\n",
      "Found directory: /Users/Mrinal/Documents/Nijeder/BabaMaa\n",
      "Found directory: /Users/Mrinal/Documents/Nijeder\n",
      "\t.DS_Store\n",
      "Found directory: /Users/Mrinal/Documents/Resume\n",
      "\tMrinal Kanti Paul.docx\n",
      "\tMrinal Kanti Paul.pdf\n",
      "\t~$inal Kanti Paul.docx\n",
      "\tMrinal Kanti Paul_3page.docx\n",
      "\tmkp_timeline_project.docx\n",
      "\tMrinal_Kanti_Paul_2011.doc\n",
      "\tMrinal_Kanti_Paul_3page.pdf\n",
      "Found directory: /Users/Mrinal/Documents/Scan/Dec\n",
      "\t.DS_Store\n",
      "\tOPT-I20.pdf\n",
      "Found directory: /Users/Mrinal/Documents/Scan\n",
      "\t.DS_Store\n",
      "\tIMG_20171220_0002.pdf\n",
      "\tIMG_20171220_0003.pdf\n",
      "\tIMG_20171220_0001.pdf\n",
      "\tErisha_Birth_Certificate_Temp.pdf\n",
      "Found directory: /Users/Mrinal/Documents/Bari/Ahad/Maintenance\n",
      "\tSilverCounty_2017.pdf\n",
      "Found directory: /Users/Mrinal/Documents/Bari/Ahad/Sulko\n",
      "\tMrinal Paul 16_duplicate.tax2016\n",
      "\t2016-2017.pdf\n",
      "Found directory: /Users/Mrinal/Documents/Bari/Ahad\n",
      "\tHDFC.pdf\n",
      "Found directory: /Users/Mrinal/Documents/Bari\n",
      "\t.DS_Store\n",
      "Found directory: /Users/Mrinal/Documents/Zoom\n",
      "Found directory: /Users/Mrinal/Documents/Purchase/Car_renew\n",
      "\t2016_Renew.pdf\n",
      "Found directory: /Users/Mrinal/Documents/Purchase/ICICI_Prulife\n",
      "\tPREMIUM_PAID_ACKNOWLEDGEMENT_2017.pdf\n",
      "\tPaper 48 Author Feedback.pdf\n",
      "Found directory: /Users/Mrinal/Documents/Purchase\n",
      "\t.DS_Store\n",
      "Found directory: /Users/Mrinal/Documents/Tech/ARM\n",
      "\tARMv7-AR_TRM.pdf\n",
      "\tDDI0487B_b_armv8_arm.pdf\n",
      "\tDDI0517A_corelink_mmu_500_r0p0_trm.pdf\n",
      "\tIHI0062D_c_system_mmu_architecture_specification.pdf\n",
      "Found directory: /Users/Mrinal/Documents/Tech\n",
      "Found directory: /Users/Mrinal/Documents/Tool/Intuit\n",
      "\t.DS_Store\n",
      "\t2016.pdf\n",
      "\tMrinal Paul 15.tax2015\n",
      "\tMrinal Paul.tax2016\n",
      "Found directory: /Users/Mrinal/Documents/Tool\n",
      "\t.DS_Store\n",
      "Found directory: /Users/Mrinal/Documents/Reports/CC/2017\n",
      "\tEFax_1509172777016.pdf\n",
      "Found directory: /Users/Mrinal/Documents/Reports/CC\n",
      "Found directory: /Users/Mrinal/Documents/Reports\n",
      "\t.DS_Store\n",
      "Found directory: /Users/Mrinal/Documents/\n",
      "\t.DS_Store\n",
      "\tCathy_Auth.pdf\n",
      "\t.localized\n",
      "\tmpaul_passport_frist_page.pdf\n",
      "\tpixel_01_3164.png.pdf\n",
      "\tmpaul_passport_last_page.pdf\n",
      "\tCC.pdf\n",
      "\tReco3_2015_internship.docx\n"
     ]
    }
   ],
   "source": [
    "import os\n",
    " \n",
    "rootDir = '/Users/Mrinal/Documents/'\n",
    "for dirName, subdirList, fileList in os.walk(rootDir, topdown=False):\n",
    "    print('Found directory: %s' % dirName)\n",
    "    for fname in fileList:\n",
    "        print('\\t%s' % fname)"
   ]
  },
  {
   "cell_type": "code",
   "execution_count": 25,
   "metadata": {
    "collapsed": false
   },
   "outputs": [
    {
     "name": "stdout",
     "output_type": "stream",
     "text": [
      "Found directory: /Users/Mrinal/Documents/\n",
      "\t.DS_Store\n",
      "\tCathy_Auth.pdf\n",
      "\t.localized\n",
      "\tmpaul_passport_frist_page.pdf\n",
      "\tpixel_01_3164.png.pdf\n",
      "\tmpaul_passport_last_page.pdf\n",
      "\tCC.pdf\n",
      "\tReco3_2015_internship.docx\n",
      "Found directory: /Users/Mrinal/Documents/Nijeder\n",
      "\t.DS_Store\n",
      "Found directory: /Users/Mrinal/Documents/Nijeder/Puntu\n",
      "Found directory: /Users/Mrinal/Documents/Nijeder/Puntu/Feeding Charts\n",
      "\t1.15.2018.pdf\n",
      "Found directory: /Users/Mrinal/Documents/Nijeder/Ghorar \n",
      "\tPATAP81803845_DeclarationPage.pdf\n",
      "\t.DS_Store\n",
      "\t83813889_IdCard_Baba.pdf\n",
      "\t83813889_IdCard_Maa.pdf\n",
      "\tInsurance_Kalyani_BabaMaa.pdf\n",
      "Found directory: /Users/Mrinal/Documents/Nijeder/Ghorar /Insurance\n",
      "\tPatriotAmericaPlus-2016.pdf\n",
      "\tURX Discount Card.pdf\n",
      "\tStatement_12_21_2017.PDF\n",
      "Found directory: /Users/Mrinal/Documents/Nijeder/BabaMaa\n",
      "Found directory: /Users/Mrinal/Documents/Resume\n",
      "\tMrinal Kanti Paul.docx\n",
      "\tMrinal Kanti Paul.pdf\n",
      "\t~$inal Kanti Paul.docx\n",
      "\tMrinal Kanti Paul_3page.docx\n",
      "\tmkp_timeline_project.docx\n",
      "\tMrinal_Kanti_Paul_2011.doc\n",
      "\tMrinal_Kanti_Paul_3page.pdf\n",
      "Found directory: /Users/Mrinal/Documents/Scan\n",
      "\t.DS_Store\n",
      "\tIMG_20171220_0002.pdf\n",
      "\tIMG_20171220_0003.pdf\n",
      "\tIMG_20171220_0001.pdf\n",
      "\tErisha_Birth_Certificate_Temp.pdf\n",
      "Found directory: /Users/Mrinal/Documents/Scan/Dec\n",
      "\t.DS_Store\n",
      "\tOPT-I20.pdf\n",
      "Found directory: /Users/Mrinal/Documents/Bari\n",
      "\t.DS_Store\n",
      "Found directory: /Users/Mrinal/Documents/Bari/Ahad\n",
      "\tHDFC.pdf\n",
      "Found directory: /Users/Mrinal/Documents/Bari/Ahad/Maintenance\n",
      "\tSilverCounty_2017.pdf\n",
      "Found directory: /Users/Mrinal/Documents/Bari/Ahad/Sulko\n",
      "\tMrinal Paul 16_duplicate.tax2016\n",
      "\t2016-2017.pdf\n",
      "Found directory: /Users/Mrinal/Documents/Zoom\n",
      "Found directory: /Users/Mrinal/Documents/Purchase\n",
      "\t.DS_Store\n",
      "Found directory: /Users/Mrinal/Documents/Purchase/Car_renew\n",
      "\t2016_Renew.pdf\n",
      "Found directory: /Users/Mrinal/Documents/Purchase/ICICI_Prulife\n",
      "\tPREMIUM_PAID_ACKNOWLEDGEMENT_2017.pdf\n",
      "\tPaper 48 Author Feedback.pdf\n",
      "Found directory: /Users/Mrinal/Documents/Tech\n",
      "Found directory: /Users/Mrinal/Documents/Tech/ARM\n",
      "\tARMv7-AR_TRM.pdf\n",
      "\tDDI0487B_b_armv8_arm.pdf\n",
      "\tDDI0517A_corelink_mmu_500_r0p0_trm.pdf\n",
      "\tIHI0062D_c_system_mmu_architecture_specification.pdf\n",
      "Found directory: /Users/Mrinal/Documents/Tool\n",
      "\t.DS_Store\n",
      "Found directory: /Users/Mrinal/Documents/Tool/Intuit\n",
      "\t.DS_Store\n",
      "\t2016.pdf\n",
      "\tMrinal Paul 15.tax2015\n",
      "\tMrinal Paul.tax2016\n",
      "Found directory: /Users/Mrinal/Documents/Reports\n",
      "\t.DS_Store\n",
      "Found directory: /Users/Mrinal/Documents/Reports/CC\n",
      "Found directory: /Users/Mrinal/Documents/Reports/CC/2017\n",
      "\tEFax_1509172777016.pdf\n"
     ]
    }
   ],
   "source": [
    "for dirName, subdirList, fileList in os.walk(rootDir, topdown=True):\n",
    "    print('Found directory: %s' % dirName)\n",
    "    for fname in fileList:\n",
    "        print('\\t%s' % fname)"
   ]
  },
  {
   "cell_type": "code",
   "execution_count": 43,
   "metadata": {
    "collapsed": true
   },
   "outputs": [],
   "source": [
    "my_extn = '.krtd'\n",
    "idx = 0"
   ]
  },
  {
   "cell_type": "code",
   "execution_count": 48,
   "metadata": {
    "collapsed": false
   },
   "outputs": [
    {
     "name": "stdout",
     "output_type": "stream",
     "text": [
      "found: None\n",
      "got it 0\n",
      "found: None\n",
      "got it 1\n",
      "found: None\n",
      "got it 2\n",
      "found: None\n",
      "got it 3\n",
      "found: None\n",
      "got it 4\n",
      "found: None\n",
      "got it 5\n",
      "found: None\n",
      "got it 6\n",
      "found: None\n",
      "got it 7\n",
      "found: None\n",
      "got it 8\n",
      "found: None\n",
      "got it 9\n",
      "found: None\n",
      "got it 10\n",
      "found: None\n",
      "got it 11\n",
      "found: None\n",
      "got it 12\n",
      "found: None\n",
      "got it 13\n",
      "found: None\n",
      "got it 14\n",
      "found: None\n",
      "got it 15\n",
      "found: None\n",
      "got it 16\n",
      "found: None\n",
      "got it 17\n",
      "found: None\n",
      "got it 18\n",
      "found: None\n",
      "got it 19\n",
      "found: None\n",
      "got it 20\n",
      "found: None\n",
      "got it 21\n",
      "Total PDF files 22\n"
     ]
    }
   ],
   "source": [
    "idx = 0\n",
    "for file in fname:\n",
    "    found = re.search(my_extn, file)\n",
    "    print \"found: %s\" %(found)\n",
    "    print 'got it %s' %(idx)\n",
    "    idx += 1\n",
    "print \"Total PDF files %s\" %(idx)"
   ]
  },
  {
   "cell_type": "code",
   "execution_count": 20,
   "metadata": {
    "collapsed": false
   },
   "outputs": [
    {
     "data": {
      "text/plain": [
       "[0, 0, 0, 0]"
      ]
     },
     "execution_count": 20,
     "metadata": {},
     "output_type": "execute_result"
    }
   ],
   "source": [
    "idx"
   ]
  },
  {
   "cell_type": "code",
   "execution_count": null,
   "metadata": {
    "collapsed": true
   },
   "outputs": [],
   "source": []
  }
 ],
 "metadata": {
  "anaconda-cloud": {},
  "kernelspec": {
   "display_name": "Python [default]",
   "language": "python",
   "name": "python2"
  },
  "language_info": {
   "codemirror_mode": {
    "name": "ipython",
    "version": 2
   },
   "file_extension": ".py",
   "mimetype": "text/x-python",
   "name": "python",
   "nbconvert_exporter": "python",
   "pygments_lexer": "ipython2",
   "version": "2.7.13"
  }
 },
 "nbformat": 4,
 "nbformat_minor": 2
}
